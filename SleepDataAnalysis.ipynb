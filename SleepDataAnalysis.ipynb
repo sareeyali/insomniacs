{
 "cells": [
  {
   "cell_type": "code",
   "execution_count": 1,
   "metadata": {},
   "outputs": [],
   "source": [
    "#importing the necessary libraries\n",
    "import numpy as numpy\n",
    "import numpy as numpy\n",
    "import matplotlib.pyplot as plt \n",
    "import seaborn as sns\n",
    "import pandas as pd"
   ]
  },
  {
   "cell_type": "markdown",
   "metadata": {},
   "source": [
    "# Sleep Disorder Prediction"
   ]
  },
  {
   "cell_type": "markdown",
   "metadata": {},
   "source": [
    "The aim of the project is to analyze the person's lifestyles and medical variables such as age, BMI, physical activity, sleep duration, blood pressure, and many more, to predict the sleep disorder and its type."
   ]
  },
  {
   "cell_type": "markdown",
   "metadata": {},
   "source": [
    "### Data Dictionary\n",
    "\n",
    "| Column Name | Description |\n",
    "| --- | --- |\n",
    "| Person_ID | Unique ID assigned to each person |\n",
    "| Gender | The gender of the person (Male/Female) |\n",
    "| Age | Age of the person in years |\n",
    "| Occupation | The occupation of the person |\n",
    "| Sleep_duration | The duration of sleep of the person in hours |\n",
    "| Quality_of_sleep | A subjective rating of the quality of sleep, ranging from 1 to 10 |\n",
    "| Physical_activity | The level of physical activity of the person (Low/Medium/High) |\n",
    "| Stress Level | A subjective rating of the stress level, ranging from 1 to 10 |\n",
    "| BMI_category | The BMI category of the person (Underweight/Normal/Overweight/Obesity) |\n",
    "| Blood_pressure | The blood pressure of the person in mmHg |\n",
    "| Heart_rate | The heart rate of the person in beats per minute |\n",
    "| Daily Steps | The number of steps taken by the person per day |\n",
    "| Sleep_disorder | The presence or absence of a sleep disorder in the person (None, Insomnia, Sleep Apnea) |\n"
   ]
  },
  {
   "cell_type": "code",
   "execution_count": null,
   "metadata": {},
   "outputs": [],
   "source": [
    "# loading the dataset\n",
    "df = pd.read_csv('Sleep_health_and_lifestyle_dataset.csv')\n",
    "df.head()"
   ]
  },
  {
   "cell_type": "code",
   "execution_count": null,
   "metadata": {},
   "outputs": [],
   "source": [
    "# checking for missing values\n",
    "df.isnull().sum()\n"
   ]
  },
  {
   "cell_type": "code",
   "execution_count": null,
   "metadata": {},
   "outputs": [],
   "source": [
    "# replacing the null values with 'None' in the column 'Sleep Disorder'\n",
    "df['Sleep Disorder'].fillna('None', inplace=True)"
   ]
  },
  {
   "cell_type": "markdown",
   "metadata": {},
   "source": [
    "## Data Preprocessing Part 1\n"
   ]
  },
  {
   "cell_type": "code",
   "execution_count": null,
   "metadata": {},
   "outputs": [],
   "source": [
    "# splitting the blood pressure into two columns\n",
    "df['systolic_bp'] = df['Blood Pressure'].apply(lambda x: x.split('/')[0])\n",
    "df['diastolic_bp'] = df['Blood Pressure'].apply(lambda x: x.split('/')[1])\n",
    "# dropping the blood pressure column\n",
    "df.drop('Blood Pressure', axis=1, inplace=True)\n"
   ]
  },
  {
   "cell_type": "code",
   "execution_count": null,
   "metadata": {},
   "outputs": [],
   "source": [
    "# formatting graphs\n",
    "sns.set(style=\"whitegrid\")\n",
    "%matplotlib inline\n"
   ]
  },
  {
   "cell_type": "code",
   "execution_count": null,
   "metadata": {},
   "outputs": [],
   "source": [
    "# splitting dataset into training and testing sets\n",
    "from sklearn.model_selection import train_test_split\n",
    "X_train, X_test, y_train, y_test = train_test_split(df.drop('Sleep Disorder', axis=1), df['Sleep Disorder'], test_size=0.3, random_state=42)\n"
   ]
  },
  {
   "cell_type": "markdown",
   "metadata": {},
   "source": [
    "## Model Building\n",
    "\n",
    "To predict sleep disorders using classification algorithms, we will use:\n",
    "1. Decision Tree Classifier\n",
    "2. Random Forest Classifier\n"
   ]
  },
  {
   "cell_type": "markdown",
   "metadata": {},
   "source": [
    "### Decision Tree Classifier"
   ]
  },
  {
   "cell_type": "code",
   "execution_count": null,
   "metadata": {},
   "outputs": [],
   "source": [
    "from sklearn.tree import DecisionTreeClassifier\n",
    "dtree = DecisionTreeClassifier()\n",
    "dtree\n"
   ]
  },
  {
   "cell_type": "code",
   "execution_count": null,
   "metadata": {},
   "outputs": [],
   "source": [
    "# Training the model with training dataset\n",
    "dtree.fit(X_train, y_train)\n",
    "\n",
    "# Training accuracy\n",
    "print(\"Training Accuracy:\", dtree.score(X_train, y_train))\n",
    "\n"
   ]
  },
  {
   "cell_type": "markdown",
   "metadata": {},
   "source": [
    "### Decision Tree Model Evaluation\n"
   ]
  },
  {
   "cell_type": "code",
   "execution_count": null,
   "metadata": {},
   "outputs": [],
   "source": [
    "# make predictions\n",
    "d_pred = dtree.predict(X_test)\n",
    "d_pred\n"
   ]
  },
  {
   "cell_type": "code",
   "execution_count": null,
   "metadata": {},
   "outputs": [],
   "source": [
    "# display confusion matrix\n",
    "from sklearn.metrics import confusion_matrix\n",
    "sns.heatmap(confusion_matrix(y_test, d_pred), annot=True, cmap='Blues', fmt='g')\n",
    "plt.title('Confusion Matrix')\n",
    "plt.xlabel('Actual')\n",
    "plt.ylabel('Predicted')\n",
    "plt.show()\n"
   ]
  },
  {
   "cell_type": "markdown",
   "metadata": {},
   "source": [
    "The confusion matrix shows true positives (correct predictions) along the diagonal. The off-diagonal cells indicate false positives (incorrect predictions).\n"
   ]
  },
  {
   "cell_type": "markdown",
   "metadata": {},
   "source": [
    "### Distribution Plot for Predicted and Actual Values"
   ]
  },
  {
   "cell_type": "code",
   "execution_count": null,
   "metadata": {},
   "outputs": [],
   "source": [
    "# visualize how well model's predictions match actual values\n",
    "ax = sns.distplot(y_test, hist=False, color=\"r\", label=\"Actual Value\")\n",
    "sns.distplot(d_pred, hist=False, color=\"b\", label=\"Fitted Values\" , ax=ax)\n",
    "plt.title('Actual vs Fitted Values for Sleep Disorder Prediction')\n",
    "plt.xlabel('Sleep Disorder')\n",
    "plt.ylabel('Proportion of People')\n",
    "plt.show()\n"
   ]
  },
  {
   "cell_type": "markdown",
   "metadata": {},
   "source": [
    "The actual values are shown in red, while the predicted values are in blue. The model's predictions follow the actual data trend, but there are noticeable differences, indicating the model may not predict values with perfect accuracy.\n"
   ]
  },
  {
   "cell_type": "markdown",
   "metadata": {},
   "source": [
    "##### Classification Report"
   ]
  },
  {
   "cell_type": "code",
   "execution_count": null,
   "metadata": {},
   "outputs": [],
   "source": [
    "# generate report\n",
    "from sklearn.metrics import classification_report\n",
    "print(classification_report(y_test, d_pred))\n"
   ]
  },
  {
   "cell_type": "markdown",
   "metadata": {},
   "source": [
    "The model achieves an accuracy of 87% with an average F1 score of 0.83, indicating it performs fairly well in predicting sleep disorders."
   ]
  },
  {
   "cell_type": "markdown",
   "metadata": {},
   "source": [
    "### Random Forest Classifier\n"
   ]
  },
  {
   "cell_type": "code",
   "execution_count": null,
   "metadata": {},
   "outputs": [],
   "source": [
    "# initialize RandomForectClassifier\n",
    "from sklearn.ensemble import RandomForestClassifier\n",
    "rfc = RandomForestClassifier(n_estimators=100, random_state=42)\n"
   ]
  },
  {
   "cell_type": "code",
   "execution_count": null,
   "metadata": {},
   "outputs": [],
   "source": [
    "# training the model with train dataset\n",
    "rfc.fit(X_train, y_train)\n"
   ]
  },
  {
   "cell_type": "markdown",
   "metadata": {},
   "source": [
    "## Conclusion\n",
    "\n",
    "This project explored the prediction of sleep disorders using classification algorithms. The Decision Tree model performed well, achieving an accuracy of 87% with a decent F1 score. However, additional fine-tuning and testing with models like the Random Forest classifier can potentially enhance prediction accuracy.\n"
   ]
  }
 ],
 "metadata": {
  "kernelspec": {
   "display_name": "Python 3",
   "language": "python",
   "name": "python3"
  },
  "language_info": {
   "codemirror_mode": {
    "name": "ipython",
    "version": 3
   },
   "file_extension": ".py",
   "mimetype": "text/x-python",
   "name": "python",
   "nbconvert_exporter": "python",
   "pygments_lexer": "ipython3",
   "version": "3.12.4"
  }
 },
 "nbformat": 4,
 "nbformat_minor": 2
}
